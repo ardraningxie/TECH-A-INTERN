{
 "cells": [
  {
   "cell_type": "markdown",
   "id": "a6151920",
   "metadata": {},
   "source": [
    "# E-Commerce Sales Dataset"
   ]
  },
  {
   "cell_type": "markdown",
   "id": "923130c1",
   "metadata": {},
   "source": [
    "by ardra p"
   ]
  },
  {
   "cell_type": "code",
   "execution_count": null,
   "id": "7c26f430",
   "metadata": {},
   "outputs": [],
   "source": [
    "Dataset Link"
   ]
  },
  {
   "cell_type": "code",
   "execution_count": null,
   "id": "651d1f8d",
   "metadata": {},
   "outputs": [],
   "source": [
    "https://www.kaggle.com/datasets/thedevastator/unlock-profits-with-e-commerce-sales-data"
   ]
  },
  {
   "cell_type": "code",
   "execution_count": null,
   "id": "88f3fe7e",
   "metadata": {},
   "outputs": [],
   "source": [
    "Dataset Describtion"
   ]
  },
  {
   "cell_type": "markdown",
   "id": "43458871",
   "metadata": {},
   "source": [
    "- This dataset provides an in-depth look at the profitability of e-commerce sales.  \n",
    "  It contains data on a variety of sales channels, including Shiprocket and INCREFF, \n",
    "  as well as financial information on related expenses and profits. The columns contain \n",
    "  data such as SKU codes, design numbers, stock levels, product categories, sizes and colors.\n",
    "  In addition to this we have included the MRPs across multiple stores like Ajio MRP , Amazon MRP ,\n",
    "  Amazon FBA MRP , Flipkart MRP , Limeroad MRP Myntra MRP and PaytmMRP along with other key parameters \n",
    "  like amount paid by customer for the purchase , rate per piece for every individual transaction \n",
    "  Also we have added transactional parameters like Date of sale months category fulfilledby B2b Status Qty Currency Gross amt . \n",
    "  This is a must-have dataset for anyone trying to uncover the profitability of e-commerce sales in today's marketplace"
   ]
  },
  {
   "cell_type": "markdown",
   "id": "072804a4",
   "metadata": {},
   "source": [
    "## Attributes"
   ]
  },
  {
   "cell_type": "markdown",
   "id": "75e7ac0c",
   "metadata": {},
   "source": [
    "- Category: Type of product. (String)\n",
    "- Size: Size of the product. (String)\n",
    "- Date: Date of the sale. (Date)\n",
    "- Status: Status of the sale. (String)\n",
    "- Fulfilment: Method of fulfilment. (String)\n",
    "- Style: Style of the product. (String)\n",
    "- SKU: Stock Keeping Unit. (String)\n",
    "- ASIN: Amazon Standard Identification Number. (String)\n",
    "- Courier Status: Status of the courier. (String)\n",
    "- Qty: Quantity of the product. (Integer)\n",
    "- Amount: Amount of the sale. (Float)\n",
    "- B2B: Business to business sale. (Boolean)\n",
    "- Currency: The currency used for the sale. (String)"
   ]
  },
  {
   "cell_type": "code",
   "execution_count": 1,
   "id": "505f06ec",
   "metadata": {},
   "outputs": [],
   "source": [
    "import numpy as np\n",
    "import pandas as pd\n",
    "import warnings\n",
    "warnings.filterwarnings('ignore')\n",
    "import matplotlib.pyplot as plt\n",
    "import seaborn as sns"
   ]
  },
  {
   "cell_type": "markdown",
   "id": "e9446821",
   "metadata": {},
   "source": [
    "## Loading The Dataset"
   ]
  },
  {
   "cell_type": "code",
   "execution_count": 2,
   "id": "56da1c1f",
   "metadata": {},
   "outputs": [],
   "source": [
    "df=pd.read_csv('Amazon Sale Report.csv')"
   ]
  },
  {
   "cell_type": "markdown",
   "id": "a6bd3217",
   "metadata": {},
   "source": [
    "- Dimension"
   ]
  },
  {
   "cell_type": "code",
   "execution_count": 3,
   "id": "ecfa0240",
   "metadata": {},
   "outputs": [
    {
     "data": {
      "text/plain": [
       "2"
      ]
     },
     "execution_count": 3,
     "metadata": {},
     "output_type": "execute_result"
    }
   ],
   "source": [
    "df.ndim"
   ]
  },
  {
   "cell_type": "code",
   "execution_count": 3,
   "id": "cbc5aed9",
   "metadata": {},
   "outputs": [
    {
     "data": {
      "text/plain": [
       "Index(['index', 'Order ID', 'Date', 'Status', 'Fulfilment', 'Sales Channel ',\n",
       "       'ship-service-level', 'Style', 'SKU', 'Category', 'Size', 'ASIN',\n",
       "       'Courier Status', 'Qty', 'currency', 'Amount', 'ship-city',\n",
       "       'ship-state', 'ship-postal-code', 'ship-country', 'promotion-ids',\n",
       "       'B2B', 'fulfilled-by', 'Unnamed: 22'],\n",
       "      dtype='object')"
      ]
     },
     "execution_count": 3,
     "metadata": {},
     "output_type": "execute_result"
    }
   ],
   "source": [
    "df.columns"
   ]
  },
  {
   "cell_type": "code",
   "execution_count": 4,
   "id": "d1b06b53",
   "metadata": {},
   "outputs": [
    {
     "data": {
      "text/html": [
       "<div>\n",
       "<style scoped>\n",
       "    .dataframe tbody tr th:only-of-type {\n",
       "        vertical-align: middle;\n",
       "    }\n",
       "\n",
       "    .dataframe tbody tr th {\n",
       "        vertical-align: top;\n",
       "    }\n",
       "\n",
       "    .dataframe thead th {\n",
       "        text-align: right;\n",
       "    }\n",
       "</style>\n",
       "<table border=\"1\" class=\"dataframe\">\n",
       "  <thead>\n",
       "    <tr style=\"text-align: right;\">\n",
       "      <th></th>\n",
       "      <th>index</th>\n",
       "      <th>Order ID</th>\n",
       "      <th>Date</th>\n",
       "      <th>Status</th>\n",
       "      <th>Fulfilment</th>\n",
       "      <th>Sales Channel</th>\n",
       "      <th>ship-service-level</th>\n",
       "      <th>Style</th>\n",
       "      <th>SKU</th>\n",
       "      <th>Category</th>\n",
       "      <th>...</th>\n",
       "      <th>currency</th>\n",
       "      <th>Amount</th>\n",
       "      <th>ship-city</th>\n",
       "      <th>ship-state</th>\n",
       "      <th>ship-postal-code</th>\n",
       "      <th>ship-country</th>\n",
       "      <th>promotion-ids</th>\n",
       "      <th>B2B</th>\n",
       "      <th>fulfilled-by</th>\n",
       "      <th>Unnamed: 22</th>\n",
       "    </tr>\n",
       "  </thead>\n",
       "  <tbody>\n",
       "    <tr>\n",
       "      <th>0</th>\n",
       "      <td>0</td>\n",
       "      <td>405-8078784-5731545</td>\n",
       "      <td>04-30-22</td>\n",
       "      <td>Cancelled</td>\n",
       "      <td>Merchant</td>\n",
       "      <td>Amazon.in</td>\n",
       "      <td>Standard</td>\n",
       "      <td>SET389</td>\n",
       "      <td>SET389-KR-NP-S</td>\n",
       "      <td>Set</td>\n",
       "      <td>...</td>\n",
       "      <td>INR</td>\n",
       "      <td>647.62</td>\n",
       "      <td>MUMBAI</td>\n",
       "      <td>MAHARASHTRA</td>\n",
       "      <td>400081.0</td>\n",
       "      <td>IN</td>\n",
       "      <td>NaN</td>\n",
       "      <td>False</td>\n",
       "      <td>Easy Ship</td>\n",
       "      <td>NaN</td>\n",
       "    </tr>\n",
       "    <tr>\n",
       "      <th>1</th>\n",
       "      <td>1</td>\n",
       "      <td>171-9198151-1101146</td>\n",
       "      <td>04-30-22</td>\n",
       "      <td>Shipped - Delivered to Buyer</td>\n",
       "      <td>Merchant</td>\n",
       "      <td>Amazon.in</td>\n",
       "      <td>Standard</td>\n",
       "      <td>JNE3781</td>\n",
       "      <td>JNE3781-KR-XXXL</td>\n",
       "      <td>kurta</td>\n",
       "      <td>...</td>\n",
       "      <td>INR</td>\n",
       "      <td>406.00</td>\n",
       "      <td>BENGALURU</td>\n",
       "      <td>KARNATAKA</td>\n",
       "      <td>560085.0</td>\n",
       "      <td>IN</td>\n",
       "      <td>Amazon PLCC Free-Financing Universal Merchant ...</td>\n",
       "      <td>False</td>\n",
       "      <td>Easy Ship</td>\n",
       "      <td>NaN</td>\n",
       "    </tr>\n",
       "    <tr>\n",
       "      <th>2</th>\n",
       "      <td>2</td>\n",
       "      <td>404-0687676-7273146</td>\n",
       "      <td>04-30-22</td>\n",
       "      <td>Shipped</td>\n",
       "      <td>Amazon</td>\n",
       "      <td>Amazon.in</td>\n",
       "      <td>Expedited</td>\n",
       "      <td>JNE3371</td>\n",
       "      <td>JNE3371-KR-XL</td>\n",
       "      <td>kurta</td>\n",
       "      <td>...</td>\n",
       "      <td>INR</td>\n",
       "      <td>329.00</td>\n",
       "      <td>NAVI MUMBAI</td>\n",
       "      <td>MAHARASHTRA</td>\n",
       "      <td>410210.0</td>\n",
       "      <td>IN</td>\n",
       "      <td>IN Core Free Shipping 2015/04/08 23-48-5-108</td>\n",
       "      <td>True</td>\n",
       "      <td>NaN</td>\n",
       "      <td>NaN</td>\n",
       "    </tr>\n",
       "    <tr>\n",
       "      <th>3</th>\n",
       "      <td>3</td>\n",
       "      <td>403-9615377-8133951</td>\n",
       "      <td>04-30-22</td>\n",
       "      <td>Cancelled</td>\n",
       "      <td>Merchant</td>\n",
       "      <td>Amazon.in</td>\n",
       "      <td>Standard</td>\n",
       "      <td>J0341</td>\n",
       "      <td>J0341-DR-L</td>\n",
       "      <td>Western Dress</td>\n",
       "      <td>...</td>\n",
       "      <td>INR</td>\n",
       "      <td>753.33</td>\n",
       "      <td>PUDUCHERRY</td>\n",
       "      <td>PUDUCHERRY</td>\n",
       "      <td>605008.0</td>\n",
       "      <td>IN</td>\n",
       "      <td>NaN</td>\n",
       "      <td>False</td>\n",
       "      <td>Easy Ship</td>\n",
       "      <td>NaN</td>\n",
       "    </tr>\n",
       "    <tr>\n",
       "      <th>4</th>\n",
       "      <td>4</td>\n",
       "      <td>407-1069790-7240320</td>\n",
       "      <td>04-30-22</td>\n",
       "      <td>Shipped</td>\n",
       "      <td>Amazon</td>\n",
       "      <td>Amazon.in</td>\n",
       "      <td>Expedited</td>\n",
       "      <td>JNE3671</td>\n",
       "      <td>JNE3671-TU-XXXL</td>\n",
       "      <td>Top</td>\n",
       "      <td>...</td>\n",
       "      <td>INR</td>\n",
       "      <td>574.00</td>\n",
       "      <td>CHENNAI</td>\n",
       "      <td>TAMIL NADU</td>\n",
       "      <td>600073.0</td>\n",
       "      <td>IN</td>\n",
       "      <td>NaN</td>\n",
       "      <td>False</td>\n",
       "      <td>NaN</td>\n",
       "      <td>NaN</td>\n",
       "    </tr>\n",
       "  </tbody>\n",
       "</table>\n",
       "<p>5 rows × 24 columns</p>\n",
       "</div>"
      ],
      "text/plain": [
       "   index             Order ID      Date                        Status  \\\n",
       "0      0  405-8078784-5731545  04-30-22                     Cancelled   \n",
       "1      1  171-9198151-1101146  04-30-22  Shipped - Delivered to Buyer   \n",
       "2      2  404-0687676-7273146  04-30-22                       Shipped   \n",
       "3      3  403-9615377-8133951  04-30-22                     Cancelled   \n",
       "4      4  407-1069790-7240320  04-30-22                       Shipped   \n",
       "\n",
       "  Fulfilment Sales Channel  ship-service-level    Style              SKU  \\\n",
       "0   Merchant      Amazon.in           Standard   SET389   SET389-KR-NP-S   \n",
       "1   Merchant      Amazon.in           Standard  JNE3781  JNE3781-KR-XXXL   \n",
       "2     Amazon      Amazon.in          Expedited  JNE3371    JNE3371-KR-XL   \n",
       "3   Merchant      Amazon.in           Standard    J0341       J0341-DR-L   \n",
       "4     Amazon      Amazon.in          Expedited  JNE3671  JNE3671-TU-XXXL   \n",
       "\n",
       "        Category  ... currency  Amount    ship-city   ship-state  \\\n",
       "0            Set  ...      INR  647.62       MUMBAI  MAHARASHTRA   \n",
       "1          kurta  ...      INR  406.00    BENGALURU    KARNATAKA   \n",
       "2          kurta  ...      INR  329.00  NAVI MUMBAI  MAHARASHTRA   \n",
       "3  Western Dress  ...      INR  753.33   PUDUCHERRY   PUDUCHERRY   \n",
       "4            Top  ...      INR  574.00      CHENNAI   TAMIL NADU   \n",
       "\n",
       "  ship-postal-code  ship-country  \\\n",
       "0         400081.0            IN   \n",
       "1         560085.0            IN   \n",
       "2         410210.0            IN   \n",
       "3         605008.0            IN   \n",
       "4         600073.0            IN   \n",
       "\n",
       "                                       promotion-ids    B2B  fulfilled-by  \\\n",
       "0                                                NaN  False     Easy Ship   \n",
       "1  Amazon PLCC Free-Financing Universal Merchant ...  False     Easy Ship   \n",
       "2       IN Core Free Shipping 2015/04/08 23-48-5-108   True           NaN   \n",
       "3                                                NaN  False     Easy Ship   \n",
       "4                                                NaN  False           NaN   \n",
       "\n",
       "  Unnamed: 22  \n",
       "0         NaN  \n",
       "1         NaN  \n",
       "2         NaN  \n",
       "3         NaN  \n",
       "4         NaN  \n",
       "\n",
       "[5 rows x 24 columns]"
      ]
     },
     "execution_count": 4,
     "metadata": {},
     "output_type": "execute_result"
    }
   ],
   "source": [
    "df.head()"
   ]
  },
  {
   "cell_type": "code",
   "execution_count": 5,
   "id": "7c9150f5",
   "metadata": {},
   "outputs": [],
   "source": [
    "df.drop(['index', 'Order ID', 'Date'],axis=1,inplace=True)"
   ]
  },
  {
   "cell_type": "code",
   "execution_count": 6,
   "id": "78dccccf",
   "metadata": {},
   "outputs": [
    {
     "data": {
      "text/plain": [
       "Shipped                          77804\n",
       "Shipped - Delivered to Buyer     28769\n",
       "Cancelled                        18332\n",
       "Shipped - Returned to Seller      1953\n",
       "Shipped - Picked Up                973\n",
       "Pending                            658\n",
       "Pending - Waiting for Pick Up      281\n",
       "Shipped - Returning to Seller      145\n",
       "Shipped - Out for Delivery          35\n",
       "Shipped - Rejected by Buyer         11\n",
       "Shipping                             8\n",
       "Shipped - Lost in Transit            5\n",
       "Shipped - Damaged                    1\n",
       "Name: Status, dtype: int64"
      ]
     },
     "execution_count": 6,
     "metadata": {},
     "output_type": "execute_result"
    }
   ],
   "source": [
    "df['Status'].value_counts()"
   ]
  },
  {
   "cell_type": "code",
   "execution_count": 7,
   "id": "2dd49b74",
   "metadata": {},
   "outputs": [
    {
     "data": {
      "text/plain": [
       "Amazon      89698\n",
       "Merchant    39277\n",
       "Name: Fulfilment, dtype: int64"
      ]
     },
     "execution_count": 7,
     "metadata": {},
     "output_type": "execute_result"
    }
   ],
   "source": [
    "df['Fulfilment'].value_counts()"
   ]
  },
  {
   "cell_type": "code",
   "execution_count": 8,
   "id": "63046370",
   "metadata": {},
   "outputs": [
    {
     "data": {
      "text/plain": [
       "Index(['Status', 'Fulfilment', 'Sales Channel ', 'ship-service-level', 'Style',\n",
       "       'SKU', 'Category', 'Size', 'ASIN', 'Courier Status', 'Qty', 'currency',\n",
       "       'Amount', 'ship-city', 'ship-state', 'ship-postal-code', 'ship-country',\n",
       "       'promotion-ids', 'B2B', 'fulfilled-by', 'Unnamed: 22'],\n",
       "      dtype='object')"
      ]
     },
     "execution_count": 8,
     "metadata": {},
     "output_type": "execute_result"
    }
   ],
   "source": [
    "df.columns"
   ]
  },
  {
   "cell_type": "code",
   "execution_count": 9,
   "id": "91fa0611",
   "metadata": {},
   "outputs": [
    {
     "data": {
      "text/plain": [
       "Amazon.in     128851\n",
       "Non-Amazon       124\n",
       "Name: Sales Channel , dtype: int64"
      ]
     },
     "execution_count": 9,
     "metadata": {},
     "output_type": "execute_result"
    }
   ],
   "source": [
    "df['Sales Channel '].value_counts()"
   ]
  },
  {
   "cell_type": "code",
   "execution_count": 10,
   "id": "93e73edf",
   "metadata": {},
   "outputs": [
    {
     "data": {
      "text/plain": [
       "Expedited    88615\n",
       "Standard     40360\n",
       "Name: ship-service-level, dtype: int64"
      ]
     },
     "execution_count": 10,
     "metadata": {},
     "output_type": "execute_result"
    }
   ],
   "source": [
    "df['ship-service-level'].value_counts()"
   ]
  },
  {
   "cell_type": "code",
   "execution_count": 11,
   "id": "cdc64573",
   "metadata": {},
   "outputs": [
    {
     "data": {
      "text/plain": [
       "JNE3797    4224\n",
       "JNE3405    2263\n",
       "J0230      1868\n",
       "SET268     1860\n",
       "J0341      1630\n",
       "           ... \n",
       "BTM004        1\n",
       "SET036        1\n",
       "JNE3157       1\n",
       "JNE3355       1\n",
       "SET045        1\n",
       "Name: Style, Length: 1377, dtype: int64"
      ]
     },
     "execution_count": 11,
     "metadata": {},
     "output_type": "execute_result"
    }
   ],
   "source": [
    "df['Style'].value_counts()"
   ]
  },
  {
   "cell_type": "code",
   "execution_count": 12,
   "id": "e1492b46",
   "metadata": {},
   "outputs": [
    {
     "data": {
      "text/plain": [
       "JNE3797-KR-L       773\n",
       "JNE3797-KR-M       657\n",
       "JNE3797-KR-S       587\n",
       "JNE3405-KR-L       535\n",
       "J0230-SKD-M        507\n",
       "                  ... \n",
       "BTM004-XXXL          1\n",
       "BL090-XS             1\n",
       "BTM045-PP-M          1\n",
       "SET034-KR-NP-XS      1\n",
       "SET045-KR-NP-M       1\n",
       "Name: SKU, Length: 7195, dtype: int64"
      ]
     },
     "execution_count": 12,
     "metadata": {},
     "output_type": "execute_result"
    }
   ],
   "source": [
    "df['SKU'].value_counts()"
   ]
  },
  {
   "cell_type": "code",
   "execution_count": 13,
   "id": "ac0aef43",
   "metadata": {},
   "outputs": [
    {
     "data": {
      "text/plain": [
       "Set              50284\n",
       "kurta            49877\n",
       "Western Dress    15500\n",
       "Top              10622\n",
       "Ethnic Dress      1159\n",
       "Blouse             926\n",
       "Bottom             440\n",
       "Saree              164\n",
       "Dupatta              3\n",
       "Name: Category, dtype: int64"
      ]
     },
     "execution_count": 13,
     "metadata": {},
     "output_type": "execute_result"
    }
   ],
   "source": [
    "df['Category'].value_counts()"
   ]
  },
  {
   "cell_type": "code",
   "execution_count": 14,
   "id": "01ab6396",
   "metadata": {},
   "outputs": [
    {
     "data": {
      "text/plain": [
       "M       22711\n",
       "L       22132\n",
       "XL      20876\n",
       "XXL     18096\n",
       "S       17090\n",
       "3XL     14816\n",
       "XS      11161\n",
       "6XL       738\n",
       "5XL       550\n",
       "4XL       427\n",
       "Free      378\n",
       "Name: Size, dtype: int64"
      ]
     },
     "execution_count": 14,
     "metadata": {},
     "output_type": "execute_result"
    }
   ],
   "source": [
    "df['Size'].value_counts()"
   ]
  },
  {
   "cell_type": "code",
   "execution_count": 15,
   "id": "4d2f9d4e",
   "metadata": {},
   "outputs": [
    {
     "data": {
      "text/plain": [
       "Shipped      109487\n",
       "Unshipped      6681\n",
       "Cancelled      5935\n",
       "Name: Courier Status, dtype: int64"
      ]
     },
     "execution_count": 15,
     "metadata": {},
     "output_type": "execute_result"
    }
   ],
   "source": [
    "df['Courier Status'].value_counts()"
   ]
  },
  {
   "cell_type": "code",
   "execution_count": 16,
   "id": "28432f9f",
   "metadata": {},
   "outputs": [
    {
     "data": {
      "text/plain": [
       "1     115780\n",
       "0      12807\n",
       "2        341\n",
       "3         32\n",
       "4          9\n",
       "5          2\n",
       "15         1\n",
       "9          1\n",
       "13         1\n",
       "8          1\n",
       "Name: Qty, dtype: int64"
      ]
     },
     "execution_count": 16,
     "metadata": {},
     "output_type": "execute_result"
    }
   ],
   "source": [
    "df['Qty'].value_counts()"
   ]
  },
  {
   "cell_type": "code",
   "execution_count": 17,
   "id": "44337130",
   "metadata": {},
   "outputs": [],
   "source": [
    "# quantity zero means they cancelled the order"
   ]
  },
  {
   "cell_type": "code",
   "execution_count": 18,
   "id": "b4c125bf",
   "metadata": {},
   "outputs": [
    {
     "data": {
      "text/plain": [
       "array(['INR', nan], dtype=object)"
      ]
     },
     "execution_count": 18,
     "metadata": {},
     "output_type": "execute_result"
    }
   ],
   "source": [
    "df['currency'].unique()"
   ]
  },
  {
   "cell_type": "code",
   "execution_count": 19,
   "id": "1eacec58",
   "metadata": {},
   "outputs": [
    {
     "data": {
      "text/plain": [
       "Index(['Status', 'Fulfilment', 'Sales Channel ', 'ship-service-level', 'Style',\n",
       "       'SKU', 'Category', 'Size', 'ASIN', 'Courier Status', 'Qty', 'currency',\n",
       "       'Amount', 'ship-city', 'ship-state', 'ship-postal-code', 'ship-country',\n",
       "       'promotion-ids', 'B2B', 'fulfilled-by', 'Unnamed: 22'],\n",
       "      dtype='object')"
      ]
     },
     "execution_count": 19,
     "metadata": {},
     "output_type": "execute_result"
    }
   ],
   "source": [
    "df.columns\n"
   ]
  },
  {
   "cell_type": "code",
   "execution_count": 20,
   "id": "76adcb82",
   "metadata": {},
   "outputs": [
    {
     "data": {
      "text/plain": [
       "False    79925\n",
       "Name: Unnamed: 22, dtype: int64"
      ]
     },
     "execution_count": 20,
     "metadata": {},
     "output_type": "execute_result"
    }
   ],
   "source": [
    "df['Unnamed: 22'].value_counts()"
   ]
  },
  {
   "cell_type": "code",
   "execution_count": 21,
   "id": "62bd06ae",
   "metadata": {},
   "outputs": [],
   "source": [
    "df.drop(['ASIN','ship-postal-code','promotion-ids','Unnamed: 22'],axis=1,inplace=True)"
   ]
  },
  {
   "cell_type": "code",
   "execution_count": 22,
   "id": "44caf578",
   "metadata": {},
   "outputs": [
    {
     "data": {
      "text/plain": [
       "Status                    0\n",
       "Fulfilment                0\n",
       "Sales Channel             0\n",
       "ship-service-level        0\n",
       "Style                     0\n",
       "SKU                       0\n",
       "Category                  0\n",
       "Size                      0\n",
       "Courier Status         6872\n",
       "Qty                       0\n",
       "currency               7795\n",
       "Amount                 7795\n",
       "ship-city                33\n",
       "ship-state               33\n",
       "ship-country             33\n",
       "B2B                       0\n",
       "fulfilled-by          89698\n",
       "dtype: int64"
      ]
     },
     "execution_count": 22,
     "metadata": {},
     "output_type": "execute_result"
    }
   ],
   "source": [
    "df.isnull().sum()"
   ]
  },
  {
   "cell_type": "code",
   "execution_count": 23,
   "id": "a9096bd4",
   "metadata": {},
   "outputs": [],
   "source": [
    "df.fillna('unknown',inplace=True)"
   ]
  },
  {
   "cell_type": "code",
   "execution_count": 24,
   "id": "c025b21b",
   "metadata": {},
   "outputs": [
    {
     "data": {
      "text/plain": [
       "Status                0\n",
       "Fulfilment            0\n",
       "Sales Channel         0\n",
       "ship-service-level    0\n",
       "Style                 0\n",
       "SKU                   0\n",
       "Category              0\n",
       "Size                  0\n",
       "Courier Status        0\n",
       "Qty                   0\n",
       "currency              0\n",
       "Amount                0\n",
       "ship-city             0\n",
       "ship-state            0\n",
       "ship-country          0\n",
       "B2B                   0\n",
       "fulfilled-by          0\n",
       "dtype: int64"
      ]
     },
     "execution_count": 24,
     "metadata": {},
     "output_type": "execute_result"
    }
   ],
   "source": [
    "df.isnull().sum()"
   ]
  },
  {
   "cell_type": "code",
   "execution_count": 25,
   "id": "5afcff4d",
   "metadata": {},
   "outputs": [],
   "source": [
    "df_num=df.select_dtypes(include=np.number)\n",
    "df_cat=df.select_dtypes(exclude=np.number)"
   ]
  },
  {
   "cell_type": "code",
   "execution_count": 26,
   "id": "fbe960ad",
   "metadata": {},
   "outputs": [
    {
     "data": {
      "text/plain": [
       "Status                object\n",
       "Fulfilment            object\n",
       "Sales Channel         object\n",
       "ship-service-level    object\n",
       "Style                 object\n",
       "SKU                   object\n",
       "Category              object\n",
       "Size                  object\n",
       "Courier Status        object\n",
       "Qty                    int64\n",
       "currency              object\n",
       "Amount                object\n",
       "ship-city             object\n",
       "ship-state            object\n",
       "ship-country          object\n",
       "B2B                     bool\n",
       "fulfilled-by          object\n",
       "dtype: object"
      ]
     },
     "execution_count": 26,
     "metadata": {},
     "output_type": "execute_result"
    }
   ],
   "source": [
    "df.dtypes"
   ]
  },
  {
   "cell_type": "code",
   "execution_count": 27,
   "id": "819c2946",
   "metadata": {},
   "outputs": [],
   "source": [
    "df['Amount'].replace({'unknown':0},inplace=True)    "
   ]
  },
  {
   "cell_type": "code",
   "execution_count": 28,
   "id": "e3152147",
   "metadata": {},
   "outputs": [],
   "source": [
    "df['Amount']=df['Amount'].astype(int)"
   ]
  },
  {
   "cell_type": "markdown",
   "id": "622f1653",
   "metadata": {},
   "source": [
    "## Data Types"
   ]
  },
  {
   "cell_type": "code",
   "execution_count": 29,
   "id": "dc518b3f",
   "metadata": {},
   "outputs": [
    {
     "data": {
      "text/plain": [
       "Status                object\n",
       "Fulfilment            object\n",
       "Sales Channel         object\n",
       "ship-service-level    object\n",
       "Style                 object\n",
       "SKU                   object\n",
       "Category              object\n",
       "Size                  object\n",
       "Courier Status        object\n",
       "Qty                    int64\n",
       "currency              object\n",
       "Amount                 int32\n",
       "ship-city             object\n",
       "ship-state            object\n",
       "ship-country          object\n",
       "B2B                     bool\n",
       "fulfilled-by          object\n",
       "dtype: object"
      ]
     },
     "execution_count": 29,
     "metadata": {},
     "output_type": "execute_result"
    }
   ],
   "source": [
    "df.dtypes"
   ]
  },
  {
   "cell_type": "code",
   "execution_count": 30,
   "id": "ae4157e6",
   "metadata": {
    "scrolled": true
   },
   "outputs": [
    {
     "name": "stdout",
     "output_type": "stream",
     "text": [
      "<class 'pandas.core.frame.DataFrame'>\n",
      "RangeIndex: 128975 entries, 0 to 128974\n",
      "Data columns (total 17 columns):\n",
      " #   Column              Non-Null Count   Dtype \n",
      "---  ------              --------------   ----- \n",
      " 0   Status              128975 non-null  object\n",
      " 1   Fulfilment          128975 non-null  object\n",
      " 2   Sales Channel       128975 non-null  object\n",
      " 3   ship-service-level  128975 non-null  object\n",
      " 4   Style               128975 non-null  object\n",
      " 5   SKU                 128975 non-null  object\n",
      " 6   Category            128975 non-null  object\n",
      " 7   Size                128975 non-null  object\n",
      " 8   Courier Status      128975 non-null  object\n",
      " 9   Qty                 128975 non-null  int64 \n",
      " 10  currency            128975 non-null  object\n",
      " 11  Amount              128975 non-null  int32 \n",
      " 12  ship-city           128975 non-null  object\n",
      " 13  ship-state          128975 non-null  object\n",
      " 14  ship-country        128975 non-null  object\n",
      " 15  B2B                 128975 non-null  bool  \n",
      " 16  fulfilled-by        128975 non-null  object\n",
      "dtypes: bool(1), int32(1), int64(1), object(14)\n",
      "memory usage: 15.4+ MB\n"
     ]
    }
   ],
   "source": [
    "df.info()"
   ]
  },
  {
   "cell_type": "markdown",
   "id": "a6bfc477",
   "metadata": {},
   "source": [
    "## statistical informations"
   ]
  },
  {
   "cell_type": "code",
   "execution_count": 31,
   "id": "fba04808",
   "metadata": {},
   "outputs": [
    {
     "data": {
      "text/html": [
       "<div>\n",
       "<style scoped>\n",
       "    .dataframe tbody tr th:only-of-type {\n",
       "        vertical-align: middle;\n",
       "    }\n",
       "\n",
       "    .dataframe tbody tr th {\n",
       "        vertical-align: top;\n",
       "    }\n",
       "\n",
       "    .dataframe thead th {\n",
       "        text-align: right;\n",
       "    }\n",
       "</style>\n",
       "<table border=\"1\" class=\"dataframe\">\n",
       "  <thead>\n",
       "    <tr style=\"text-align: right;\">\n",
       "      <th></th>\n",
       "      <th>count</th>\n",
       "      <th>mean</th>\n",
       "      <th>std</th>\n",
       "      <th>min</th>\n",
       "      <th>25%</th>\n",
       "      <th>50%</th>\n",
       "      <th>75%</th>\n",
       "      <th>max</th>\n",
       "    </tr>\n",
       "  </thead>\n",
       "  <tbody>\n",
       "    <tr>\n",
       "      <th>Qty</th>\n",
       "      <td>128975.0</td>\n",
       "      <td>0.904431</td>\n",
       "      <td>0.313354</td>\n",
       "      <td>0.0</td>\n",
       "      <td>1.0</td>\n",
       "      <td>1.0</td>\n",
       "      <td>1.0</td>\n",
       "      <td>15.0</td>\n",
       "    </tr>\n",
       "  </tbody>\n",
       "</table>\n",
       "</div>"
      ],
      "text/plain": [
       "        count      mean       std  min  25%  50%  75%   max\n",
       "Qty  128975.0  0.904431  0.313354  0.0  1.0  1.0  1.0  15.0"
      ]
     },
     "execution_count": 31,
     "metadata": {},
     "output_type": "execute_result"
    }
   ],
   "source": [
    "df_num.describe().T"
   ]
  },
  {
   "cell_type": "code",
   "execution_count": 32,
   "id": "e463c89d",
   "metadata": {
    "scrolled": true
   },
   "outputs": [
    {
     "data": {
      "text/html": [
       "<div>\n",
       "<style scoped>\n",
       "    .dataframe tbody tr th:only-of-type {\n",
       "        vertical-align: middle;\n",
       "    }\n",
       "\n",
       "    .dataframe tbody tr th {\n",
       "        vertical-align: top;\n",
       "    }\n",
       "\n",
       "    .dataframe thead th {\n",
       "        text-align: right;\n",
       "    }\n",
       "</style>\n",
       "<table border=\"1\" class=\"dataframe\">\n",
       "  <thead>\n",
       "    <tr style=\"text-align: right;\">\n",
       "      <th></th>\n",
       "      <th>count</th>\n",
       "      <th>unique</th>\n",
       "      <th>top</th>\n",
       "      <th>freq</th>\n",
       "    </tr>\n",
       "  </thead>\n",
       "  <tbody>\n",
       "    <tr>\n",
       "      <th>Status</th>\n",
       "      <td>128975</td>\n",
       "      <td>13</td>\n",
       "      <td>Shipped</td>\n",
       "      <td>77804</td>\n",
       "    </tr>\n",
       "    <tr>\n",
       "      <th>Fulfilment</th>\n",
       "      <td>128975</td>\n",
       "      <td>2</td>\n",
       "      <td>Amazon</td>\n",
       "      <td>89698</td>\n",
       "    </tr>\n",
       "    <tr>\n",
       "      <th>Sales Channel</th>\n",
       "      <td>128975</td>\n",
       "      <td>2</td>\n",
       "      <td>Amazon.in</td>\n",
       "      <td>128851</td>\n",
       "    </tr>\n",
       "    <tr>\n",
       "      <th>ship-service-level</th>\n",
       "      <td>128975</td>\n",
       "      <td>2</td>\n",
       "      <td>Expedited</td>\n",
       "      <td>88615</td>\n",
       "    </tr>\n",
       "    <tr>\n",
       "      <th>Style</th>\n",
       "      <td>128975</td>\n",
       "      <td>1377</td>\n",
       "      <td>JNE3797</td>\n",
       "      <td>4224</td>\n",
       "    </tr>\n",
       "    <tr>\n",
       "      <th>SKU</th>\n",
       "      <td>128975</td>\n",
       "      <td>7195</td>\n",
       "      <td>JNE3797-KR-L</td>\n",
       "      <td>773</td>\n",
       "    </tr>\n",
       "    <tr>\n",
       "      <th>Category</th>\n",
       "      <td>128975</td>\n",
       "      <td>9</td>\n",
       "      <td>Set</td>\n",
       "      <td>50284</td>\n",
       "    </tr>\n",
       "    <tr>\n",
       "      <th>Size</th>\n",
       "      <td>128975</td>\n",
       "      <td>11</td>\n",
       "      <td>M</td>\n",
       "      <td>22711</td>\n",
       "    </tr>\n",
       "    <tr>\n",
       "      <th>Courier Status</th>\n",
       "      <td>128975</td>\n",
       "      <td>4</td>\n",
       "      <td>Shipped</td>\n",
       "      <td>109487</td>\n",
       "    </tr>\n",
       "    <tr>\n",
       "      <th>currency</th>\n",
       "      <td>128975</td>\n",
       "      <td>2</td>\n",
       "      <td>INR</td>\n",
       "      <td>121180</td>\n",
       "    </tr>\n",
       "    <tr>\n",
       "      <th>Amount</th>\n",
       "      <td>128975</td>\n",
       "      <td>1411</td>\n",
       "      <td>unknown</td>\n",
       "      <td>7795</td>\n",
       "    </tr>\n",
       "    <tr>\n",
       "      <th>ship-city</th>\n",
       "      <td>128975</td>\n",
       "      <td>8956</td>\n",
       "      <td>BENGALURU</td>\n",
       "      <td>11217</td>\n",
       "    </tr>\n",
       "    <tr>\n",
       "      <th>ship-state</th>\n",
       "      <td>128975</td>\n",
       "      <td>70</td>\n",
       "      <td>MAHARASHTRA</td>\n",
       "      <td>22260</td>\n",
       "    </tr>\n",
       "    <tr>\n",
       "      <th>ship-country</th>\n",
       "      <td>128975</td>\n",
       "      <td>2</td>\n",
       "      <td>IN</td>\n",
       "      <td>128942</td>\n",
       "    </tr>\n",
       "    <tr>\n",
       "      <th>B2B</th>\n",
       "      <td>128975</td>\n",
       "      <td>2</td>\n",
       "      <td>False</td>\n",
       "      <td>128104</td>\n",
       "    </tr>\n",
       "    <tr>\n",
       "      <th>fulfilled-by</th>\n",
       "      <td>128975</td>\n",
       "      <td>2</td>\n",
       "      <td>unknown</td>\n",
       "      <td>89698</td>\n",
       "    </tr>\n",
       "  </tbody>\n",
       "</table>\n",
       "</div>"
      ],
      "text/plain": [
       "                     count unique           top    freq\n",
       "Status              128975     13       Shipped   77804\n",
       "Fulfilment          128975      2        Amazon   89698\n",
       "Sales Channel       128975      2     Amazon.in  128851\n",
       "ship-service-level  128975      2     Expedited   88615\n",
       "Style               128975   1377       JNE3797    4224\n",
       "SKU                 128975   7195  JNE3797-KR-L     773\n",
       "Category            128975      9           Set   50284\n",
       "Size                128975     11             M   22711\n",
       "Courier Status      128975      4       Shipped  109487\n",
       "currency            128975      2           INR  121180\n",
       "Amount              128975   1411       unknown    7795\n",
       "ship-city           128975   8956     BENGALURU   11217\n",
       "ship-state          128975     70   MAHARASHTRA   22260\n",
       "ship-country        128975      2            IN  128942\n",
       "B2B                 128975      2         False  128104\n",
       "fulfilled-by        128975      2       unknown   89698"
      ]
     },
     "execution_count": 32,
     "metadata": {},
     "output_type": "execute_result"
    }
   ],
   "source": [
    "df_cat.describe().T"
   ]
  },
  {
   "cell_type": "markdown",
   "id": "cb8d0968",
   "metadata": {},
   "source": [
    "## Analysing features"
   ]
  },
  {
   "cell_type": "code",
   "execution_count": 33,
   "id": "ed43c855",
   "metadata": {},
   "outputs": [
    {
     "data": {
      "text/plain": [
       "<Axes: >"
      ]
     },
     "execution_count": 33,
     "metadata": {},
     "output_type": "execute_result"
    },
    {
     "data": {
      "image/png": "[encoded data removed]",
      "text/plain": [
       "<Figure size 640x480 with 1 Axes>"
      ]
     },
     "metadata": {},
     "output_type": "display_data"
    }
   ],
   "source": [
    "df['Amount'].plot(kind='box')"
   ]
  },
  {
   "cell_type": "markdown",
   "id": "ed1b9e3b",
   "metadata": {},
   "source": [
    "- the maximum value of amount is greater than 5000\n",
    "- minimum value of amount is 0\n",
    "- there are somany positive outliers in this column amount,that implies this is a positively skewed data\n",
    "- the median amount of purchase is almost 500\n",
    "- 50 % of the amount value lies between 300 and 800"
   ]
  },
  {
   "cell_type": "code",
   "execution_count": 34,
   "id": "436533dd",
   "metadata": {},
   "outputs": [
    {
     "data": {
      "text/plain": [
       "<Axes: >"
      ]
     },
     "execution_count": 34,
     "metadata": {},
     "output_type": "execute_result"
    },
    {
     "data": {
      "image/png": "[encoded data removed]",
      "text/plain": [
       "<Figure size 640x480 with 2 Axes>"
      ]
     },
     "metadata": {},
     "output_type": "display_data"
    }
   ],
   "source": [
    "sns.heatmap(df.corr(),annot=True)"
   ]
  },
  {
   "cell_type": "markdown",
   "id": "9c669858",
   "metadata": {},
   "source": [
    "- there is no high correlation between this variables \n",
    "- there is no multicollenaerity between these varibales "
   ]
  },
  {
   "cell_type": "code",
   "execution_count": 35,
   "id": "a0e6334d",
   "metadata": {},
   "outputs": [
    {
     "data": {
      "text/plain": [
       "Index(['Status', 'Fulfilment', 'Sales Channel ', 'ship-service-level', 'Style',\n",
       "       'SKU', 'Category', 'Size', 'Courier Status', 'Qty', 'currency',\n",
       "       'Amount', 'ship-city', 'ship-state', 'ship-country', 'B2B',\n",
       "       'fulfilled-by'],\n",
       "      dtype='object')"
      ]
     },
     "execution_count": 35,
     "metadata": {},
     "output_type": "execute_result"
    }
   ],
   "source": [
    "df.columns"
   ]
  },
  {
   "cell_type": "code",
   "execution_count": 36,
   "id": "41a299e1",
   "metadata": {},
   "outputs": [
    {
     "data": {
      "text/plain": [
       "<Axes: >"
      ]
     },
     "execution_count": 36,
     "metadata": {},
     "output_type": "execute_result"
    },
    {
     "data": {
      "image/png": "[encoded data removed]",
      "text/plain": [
       "<Figure size 640x480 with 1 Axes>"
      ]
     },
     "metadata": {},
     "output_type": "display_data"
    }
   ],
   "source": [
    "df['Status'].value_counts().plot(kind='bar')"
   ]
  },
  {
   "cell_type": "markdown",
   "id": "5cf85c62",
   "metadata": {},
   "source": [
    "- most of the orders are shipped to customers \n",
    "- 20000 orders are cancelled by customers\n",
    "- very few of the buyers returned the product\n",
    "- only a few of the product were in shipping and damaged"
   ]
  },
  {
   "cell_type": "code",
   "execution_count": 37,
   "id": "2f7f985a",
   "metadata": {},
   "outputs": [
    {
     "data": {
      "text/plain": [
       "<Axes: xlabel='Fulfilment', ylabel='count'>"
      ]
     },
     "execution_count": 37,
     "metadata": {},
     "output_type": "execute_result"
    },
    {
     "data": {
      "image/png": "[encoded data removed]",
      "text/plain": [
       "<Figure size 640x480 with 1 Axes>"
      ]
     },
     "metadata": {},
     "output_type": "display_data"
    }
   ],
   "source": [
    "sns.countplot(x='Fulfilment',data=df)"
   ]
  },
  {
   "cell_type": "markdown",
   "id": "fad9ee72",
   "metadata": {},
   "source": [
    "-  most of the buyers  send their products to Amazon's fulfillment centers\n",
    "- only 40000 customers ordered the product directly through merchant"
   ]
  },
  {
   "cell_type": "code",
   "execution_count": 38,
   "id": "4c242be4",
   "metadata": {},
   "outputs": [
    {
     "data": {
      "text/plain": [
       "<function matplotlib.pyplot.show(close=None, block=None)>"
      ]
     },
     "execution_count": 38,
     "metadata": {},
     "output_type": "execute_result"
    },
    {
     "data": {
      "image/png": "[encoded data removed]",
      "text/plain": [
       "<Figure size 2000x2000 with 1 Axes>"
      ]
     },
     "metadata": {},
     "output_type": "display_data"
    }
   ],
   "source": [
    "plt.figure(figsize=(20,20))\n",
    "df['ship-state'].value_counts().plot(kind='bar')\n",
    "plt.show"
   ]
  },
  {
   "cell_type": "markdown",
   "id": "936b99f9",
   "metadata": {},
   "source": [
    "- the customers from maharashtra and karnadaka placed most order\n",
    "- also orders from telengana,thamilnadu,and utterpradhesh are also high\n",
    "- only a few customers ordered products from rajasthan,goa,manipur,meghalaya,sikkim,orrissa,......PB,AR"
   ]
  },
  {
   "cell_type": "code",
   "execution_count": 39,
   "id": "7bb87e1b",
   "metadata": {},
   "outputs": [
    {
     "data": {
      "text/html": [
       "<div>\n",
       "<style scoped>\n",
       "    .dataframe tbody tr th:only-of-type {\n",
       "        vertical-align: middle;\n",
       "    }\n",
       "\n",
       "    .dataframe tbody tr th {\n",
       "        vertical-align: top;\n",
       "    }\n",
       "\n",
       "    .dataframe thead th {\n",
       "        text-align: right;\n",
       "    }\n",
       "</style>\n",
       "<table border=\"1\" class=\"dataframe\">\n",
       "  <thead>\n",
       "    <tr style=\"text-align: right;\">\n",
       "      <th>Status</th>\n",
       "      <th>Cancelled</th>\n",
       "      <th>Pending</th>\n",
       "      <th>Pending - Waiting for Pick Up</th>\n",
       "      <th>Shipped</th>\n",
       "      <th>Shipped - Damaged</th>\n",
       "      <th>Shipped - Delivered to Buyer</th>\n",
       "      <th>Shipped - Lost in Transit</th>\n",
       "      <th>Shipped - Out for Delivery</th>\n",
       "      <th>Shipped - Picked Up</th>\n",
       "      <th>Shipped - Rejected by Buyer</th>\n",
       "      <th>Shipped - Returned to Seller</th>\n",
       "      <th>Shipped - Returning to Seller</th>\n",
       "      <th>Shipping</th>\n",
       "    </tr>\n",
       "    <tr>\n",
       "      <th>Category</th>\n",
       "      <th></th>\n",
       "      <th></th>\n",
       "      <th></th>\n",
       "      <th></th>\n",
       "      <th></th>\n",
       "      <th></th>\n",
       "      <th></th>\n",
       "      <th></th>\n",
       "      <th></th>\n",
       "      <th></th>\n",
       "      <th></th>\n",
       "      <th></th>\n",
       "      <th></th>\n",
       "    </tr>\n",
       "  </thead>\n",
       "  <tbody>\n",
       "    <tr>\n",
       "      <th>Blouse</th>\n",
       "      <td>116</td>\n",
       "      <td>3</td>\n",
       "      <td>1</td>\n",
       "      <td>623</td>\n",
       "      <td>0</td>\n",
       "      <td>169</td>\n",
       "      <td>0</td>\n",
       "      <td>0</td>\n",
       "      <td>2</td>\n",
       "      <td>0</td>\n",
       "      <td>12</td>\n",
       "      <td>0</td>\n",
       "      <td>0</td>\n",
       "    </tr>\n",
       "    <tr>\n",
       "      <th>Bottom</th>\n",
       "      <td>60</td>\n",
       "      <td>1</td>\n",
       "      <td>2</td>\n",
       "      <td>222</td>\n",
       "      <td>0</td>\n",
       "      <td>139</td>\n",
       "      <td>0</td>\n",
       "      <td>0</td>\n",
       "      <td>10</td>\n",
       "      <td>0</td>\n",
       "      <td>5</td>\n",
       "      <td>1</td>\n",
       "      <td>0</td>\n",
       "    </tr>\n",
       "    <tr>\n",
       "      <th>Dupatta</th>\n",
       "      <td>0</td>\n",
       "      <td>0</td>\n",
       "      <td>0</td>\n",
       "      <td>3</td>\n",
       "      <td>0</td>\n",
       "      <td>0</td>\n",
       "      <td>0</td>\n",
       "      <td>0</td>\n",
       "      <td>0</td>\n",
       "      <td>0</td>\n",
       "      <td>0</td>\n",
       "      <td>0</td>\n",
       "      <td>0</td>\n",
       "    </tr>\n",
       "    <tr>\n",
       "      <th>Ethnic Dress</th>\n",
       "      <td>145</td>\n",
       "      <td>7</td>\n",
       "      <td>0</td>\n",
       "      <td>755</td>\n",
       "      <td>0</td>\n",
       "      <td>234</td>\n",
       "      <td>0</td>\n",
       "      <td>0</td>\n",
       "      <td>2</td>\n",
       "      <td>0</td>\n",
       "      <td>16</td>\n",
       "      <td>0</td>\n",
       "      <td>0</td>\n",
       "    </tr>\n",
       "    <tr>\n",
       "      <th>Saree</th>\n",
       "      <td>21</td>\n",
       "      <td>0</td>\n",
       "      <td>0</td>\n",
       "      <td>119</td>\n",
       "      <td>0</td>\n",
       "      <td>22</td>\n",
       "      <td>0</td>\n",
       "      <td>0</td>\n",
       "      <td>1</td>\n",
       "      <td>0</td>\n",
       "      <td>1</td>\n",
       "      <td>0</td>\n",
       "      <td>0</td>\n",
       "    </tr>\n",
       "    <tr>\n",
       "      <th>Set</th>\n",
       "      <td>7337</td>\n",
       "      <td>252</td>\n",
       "      <td>108</td>\n",
       "      <td>30665</td>\n",
       "      <td>0</td>\n",
       "      <td>10644</td>\n",
       "      <td>2</td>\n",
       "      <td>19</td>\n",
       "      <td>406</td>\n",
       "      <td>6</td>\n",
       "      <td>766</td>\n",
       "      <td>73</td>\n",
       "      <td>6</td>\n",
       "    </tr>\n",
       "    <tr>\n",
       "      <th>Top</th>\n",
       "      <td>1276</td>\n",
       "      <td>55</td>\n",
       "      <td>19</td>\n",
       "      <td>7143</td>\n",
       "      <td>0</td>\n",
       "      <td>1920</td>\n",
       "      <td>0</td>\n",
       "      <td>5</td>\n",
       "      <td>69</td>\n",
       "      <td>2</td>\n",
       "      <td>124</td>\n",
       "      <td>8</td>\n",
       "      <td>1</td>\n",
       "    </tr>\n",
       "    <tr>\n",
       "      <th>Western Dress</th>\n",
       "      <td>2122</td>\n",
       "      <td>92</td>\n",
       "      <td>79</td>\n",
       "      <td>7480</td>\n",
       "      <td>1</td>\n",
       "      <td>5190</td>\n",
       "      <td>1</td>\n",
       "      <td>6</td>\n",
       "      <td>186</td>\n",
       "      <td>1</td>\n",
       "      <td>314</td>\n",
       "      <td>28</td>\n",
       "      <td>0</td>\n",
       "    </tr>\n",
       "    <tr>\n",
       "      <th>kurta</th>\n",
       "      <td>7255</td>\n",
       "      <td>248</td>\n",
       "      <td>72</td>\n",
       "      <td>30794</td>\n",
       "      <td>0</td>\n",
       "      <td>10451</td>\n",
       "      <td>2</td>\n",
       "      <td>5</td>\n",
       "      <td>297</td>\n",
       "      <td>2</td>\n",
       "      <td>715</td>\n",
       "      <td>35</td>\n",
       "      <td>1</td>\n",
       "    </tr>\n",
       "  </tbody>\n",
       "</table>\n",
       "</div>"
      ],
      "text/plain": [
       "Status         Cancelled  Pending  Pending - Waiting for Pick Up  Shipped  \\\n",
       "Category                                                                    \n",
       "Blouse               116        3                              1      623   \n",
       "Bottom                60        1                              2      222   \n",
       "Dupatta                0        0                              0        3   \n",
       "Ethnic Dress         145        7                              0      755   \n",
       "Saree                 21        0                              0      119   \n",
       "Set                 7337      252                            108    30665   \n",
       "Top                 1276       55                             19     7143   \n",
       "Western Dress       2122       92                             79     7480   \n",
       "kurta               7255      248                             72    30794   \n",
       "\n",
       "Status         Shipped - Damaged  Shipped - Delivered to Buyer  \\\n",
       "Category                                                         \n",
       "Blouse                         0                           169   \n",
       "Bottom                         0                           139   \n",
       "Dupatta                        0                             0   \n",
       "Ethnic Dress                   0                           234   \n",
       "Saree                          0                            22   \n",
       "Set                            0                         10644   \n",
       "Top                            0                          1920   \n",
       "Western Dress                  1                          5190   \n",
       "kurta                          0                         10451   \n",
       "\n",
       "Status         Shipped - Lost in Transit  Shipped - Out for Delivery  \\\n",
       "Category                                                               \n",
       "Blouse                                 0                           0   \n",
       "Bottom                                 0                           0   \n",
       "Dupatta                                0                           0   \n",
       "Ethnic Dress                           0                           0   \n",
       "Saree                                  0                           0   \n",
       "Set                                    2                          19   \n",
       "Top                                    0                           5   \n",
       "Western Dress                          1                           6   \n",
       "kurta                                  2                           5   \n",
       "\n",
       "Status         Shipped - Picked Up  Shipped - Rejected by Buyer  \\\n",
       "Category                                                          \n",
       "Blouse                           2                            0   \n",
       "Bottom                          10                            0   \n",
       "Dupatta                          0                            0   \n",
       "Ethnic Dress                     2                            0   \n",
       "Saree                            1                            0   \n",
       "Set                            406                            6   \n",
       "Top                             69                            2   \n",
       "Western Dress                  186                            1   \n",
       "kurta                          297                            2   \n",
       "\n",
       "Status         Shipped - Returned to Seller  Shipped - Returning to Seller  \\\n",
       "Category                                                                     \n",
       "Blouse                                   12                              0   \n",
       "Bottom                                    5                              1   \n",
       "Dupatta                                   0                              0   \n",
       "Ethnic Dress                             16                              0   \n",
       "Saree                                     1                              0   \n",
       "Set                                     766                             73   \n",
       "Top                                     124                              8   \n",
       "Western Dress                           314                             28   \n",
       "kurta                                   715                             35   \n",
       "\n",
       "Status         Shipping  \n",
       "Category                 \n",
       "Blouse                0  \n",
       "Bottom                0  \n",
       "Dupatta               0  \n",
       "Ethnic Dress          0  \n",
       "Saree                 0  \n",
       "Set                   6  \n",
       "Top                   1  \n",
       "Western Dress         0  \n",
       "kurta                 1  "
      ]
     },
     "execution_count": 39,
     "metadata": {},
     "output_type": "execute_result"
    }
   ],
   "source": [
    "pd.crosstab(df['Category'],df['Status'])"
   ]
  },
  {
   "cell_type": "markdown",
   "id": "4371c072",
   "metadata": {},
   "source": [
    "- most of the customers cancelled set and kurtha maybe because of quality or dislike \n",
    "- few of the customers cancelled saree and bottom \n",
    "- none of the customers cancelled dupatta\n",
    "- pending order for set and kurta is high\n",
    "- the number of customers who purchased set and kurtha comes in the top count\n",
    "- they have a best shipping service \n"
   ]
  },
  {
   "cell_type": "code",
   "execution_count": 40,
   "id": "8765958a",
   "metadata": {},
   "outputs": [
    {
     "data": {
      "text/plain": [
       "Category\n",
       "Blouse             926\n",
       "Bottom             440\n",
       "Dupatta              3\n",
       "Ethnic Dress      1159\n",
       "Saree              164\n",
       "Set              50284\n",
       "Top              10622\n",
       "Western Dress    15500\n",
       "kurta            49877\n",
       "Name: Qty, dtype: int64"
      ]
     },
     "execution_count": 40,
     "metadata": {},
     "output_type": "execute_result"
    }
   ],
   "source": [
    "df.groupby(df['Category'])['Qty'].count()"
   ]
  },
  {
   "cell_type": "markdown",
   "id": "a7be5b66",
   "metadata": {},
   "source": [
    "- most of the customers purchased set and kurta\n",
    "- few of the customers purchased dupatta and saree"
   ]
  },
  {
   "cell_type": "code",
   "execution_count": 41,
   "id": "32892ba0",
   "metadata": {},
   "outputs": [
    {
     "data": {
      "text/plain": [
       "Category\n",
       "Blouse             458392\n",
       "Bottom             150650\n",
       "Dupatta               915\n",
       "Ethnic Dress       791201\n",
       "Saree              123931\n",
       "Set              39203052\n",
       "Top               5347661\n",
       "Western Dress    11215783\n",
       "kurta            21298672\n",
       "Name: Amount, dtype: int32"
      ]
     },
     "execution_count": 41,
     "metadata": {},
     "output_type": "execute_result"
    }
   ],
   "source": [
    "df.groupby(df['Category'])['Amount'].sum()"
   ]
  },
  {
   "cell_type": "markdown",
   "id": "91547a29",
   "metadata": {},
   "source": [
    "- set and kurtha having a high profit, so we can conclude that kurtha and set are the most wanted and purchased item in this data set "
   ]
  },
  {
   "cell_type": "code",
   "execution_count": 42,
   "id": "14c6f4b6",
   "metadata": {},
   "outputs": [
    {
     "data": {
      "text/plain": [
       "Index(['Status', 'Fulfilment', 'Sales Channel ', 'ship-service-level', 'Style',\n",
       "       'SKU', 'Category', 'Size', 'Courier Status', 'Qty', 'currency',\n",
       "       'Amount', 'ship-city', 'ship-state', 'ship-country', 'B2B',\n",
       "       'fulfilled-by'],\n",
       "      dtype='object')"
      ]
     },
     "execution_count": 42,
     "metadata": {},
     "output_type": "execute_result"
    }
   ],
   "source": [
    "df.columns"
   ]
  },
  {
   "cell_type": "code",
   "execution_count": 43,
   "id": "2582282a",
   "metadata": {},
   "outputs": [
    {
     "data": {
      "text/plain": [
       "<Axes: xlabel='Qty', ylabel='Amount'>"
      ]
     },
     "execution_count": 43,
     "metadata": {},
     "output_type": "execute_result"
    },
    {
     "data": {
      "image/png": "[encoded data removed]",
      "text/plain": [
       "<Figure size 640x480 with 1 Axes>"
      ]
     },
     "metadata": {},
     "output_type": "display_data"
    }
   ],
   "source": [
    "sns.scatterplot(x=df['Qty'],y=df['Amount'])"
   ]
  },
  {
   "cell_type": "code",
   "execution_count": 44,
   "id": "672c39b9",
   "metadata": {
    "scrolled": true
   },
   "outputs": [
    {
     "data": {
      "image/png": "[encoded data removed]",
      "text/plain": [
       "<Figure size 640x480 with 1 Axes>"
      ]
     },
     "metadata": {},
     "output_type": "display_data"
    }
   ],
   "source": [
    "plt.pie(df['Sales Channel '].value_counts(),autopct='%.2f%%',explode=[0,0.3],labels=['Amazon.in', 'Non-Amazon'])\n",
    "plt.show()"
   ]
  },
  {
   "cell_type": "markdown",
   "id": "f0513ea1",
   "metadata": {},
   "source": [
    "- 99.9% customers given order through amazone channel\n",
    "- only a negligable customers are purchasing through non-amazone platform "
   ]
  },
  {
   "cell_type": "code",
   "execution_count": 45,
   "id": "ea94715c",
   "metadata": {},
   "outputs": [
    {
     "data": {
      "text/html": [
       "<div>\n",
       "<style scoped>\n",
       "    .dataframe tbody tr th:only-of-type {\n",
       "        vertical-align: middle;\n",
       "    }\n",
       "\n",
       "    .dataframe tbody tr th {\n",
       "        vertical-align: top;\n",
       "    }\n",
       "\n",
       "    .dataframe thead th {\n",
       "        text-align: right;\n",
       "    }\n",
       "</style>\n",
       "<table border=\"1\" class=\"dataframe\">\n",
       "  <thead>\n",
       "    <tr style=\"text-align: right;\">\n",
       "      <th></th>\n",
       "      <th>Status</th>\n",
       "      <th>Fulfilment</th>\n",
       "      <th>Sales Channel</th>\n",
       "      <th>ship-service-level</th>\n",
       "      <th>Style</th>\n",
       "      <th>SKU</th>\n",
       "      <th>Category</th>\n",
       "      <th>Size</th>\n",
       "      <th>Courier Status</th>\n",
       "      <th>Qty</th>\n",
       "      <th>currency</th>\n",
       "      <th>Amount</th>\n",
       "      <th>ship-city</th>\n",
       "      <th>ship-state</th>\n",
       "      <th>ship-country</th>\n",
       "      <th>B2B</th>\n",
       "      <th>fulfilled-by</th>\n",
       "    </tr>\n",
       "  </thead>\n",
       "  <tbody>\n",
       "    <tr>\n",
       "      <th>0</th>\n",
       "      <td>Cancelled</td>\n",
       "      <td>Merchant</td>\n",
       "      <td>Amazon.in</td>\n",
       "      <td>Standard</td>\n",
       "      <td>SET389</td>\n",
       "      <td>SET389-KR-NP-S</td>\n",
       "      <td>Set</td>\n",
       "      <td>S</td>\n",
       "      <td>unknown</td>\n",
       "      <td>0</td>\n",
       "      <td>INR</td>\n",
       "      <td>647</td>\n",
       "      <td>MUMBAI</td>\n",
       "      <td>MAHARASHTRA</td>\n",
       "      <td>IN</td>\n",
       "      <td>False</td>\n",
       "      <td>Easy Ship</td>\n",
       "    </tr>\n",
       "    <tr>\n",
       "      <th>1</th>\n",
       "      <td>Shipped - Delivered to Buyer</td>\n",
       "      <td>Merchant</td>\n",
       "      <td>Amazon.in</td>\n",
       "      <td>Standard</td>\n",
       "      <td>JNE3781</td>\n",
       "      <td>JNE3781-KR-XXXL</td>\n",
       "      <td>kurta</td>\n",
       "      <td>3XL</td>\n",
       "      <td>Shipped</td>\n",
       "      <td>1</td>\n",
       "      <td>INR</td>\n",
       "      <td>406</td>\n",
       "      <td>BENGALURU</td>\n",
       "      <td>KARNATAKA</td>\n",
       "      <td>IN</td>\n",
       "      <td>False</td>\n",
       "      <td>Easy Ship</td>\n",
       "    </tr>\n",
       "    <tr>\n",
       "      <th>2</th>\n",
       "      <td>Shipped</td>\n",
       "      <td>Amazon</td>\n",
       "      <td>Amazon.in</td>\n",
       "      <td>Expedited</td>\n",
       "      <td>JNE3371</td>\n",
       "      <td>JNE3371-KR-XL</td>\n",
       "      <td>kurta</td>\n",
       "      <td>XL</td>\n",
       "      <td>Shipped</td>\n",
       "      <td>1</td>\n",
       "      <td>INR</td>\n",
       "      <td>329</td>\n",
       "      <td>NAVI MUMBAI</td>\n",
       "      <td>MAHARASHTRA</td>\n",
       "      <td>IN</td>\n",
       "      <td>True</td>\n",
       "      <td>unknown</td>\n",
       "    </tr>\n",
       "    <tr>\n",
       "      <th>3</th>\n",
       "      <td>Cancelled</td>\n",
       "      <td>Merchant</td>\n",
       "      <td>Amazon.in</td>\n",
       "      <td>Standard</td>\n",
       "      <td>J0341</td>\n",
       "      <td>J0341-DR-L</td>\n",
       "      <td>Western Dress</td>\n",
       "      <td>L</td>\n",
       "      <td>unknown</td>\n",
       "      <td>0</td>\n",
       "      <td>INR</td>\n",
       "      <td>753</td>\n",
       "      <td>PUDUCHERRY</td>\n",
       "      <td>PUDUCHERRY</td>\n",
       "      <td>IN</td>\n",
       "      <td>False</td>\n",
       "      <td>Easy Ship</td>\n",
       "    </tr>\n",
       "    <tr>\n",
       "      <th>4</th>\n",
       "      <td>Shipped</td>\n",
       "      <td>Amazon</td>\n",
       "      <td>Amazon.in</td>\n",
       "      <td>Expedited</td>\n",
       "      <td>JNE3671</td>\n",
       "      <td>JNE3671-TU-XXXL</td>\n",
       "      <td>Top</td>\n",
       "      <td>3XL</td>\n",
       "      <td>Shipped</td>\n",
       "      <td>1</td>\n",
       "      <td>INR</td>\n",
       "      <td>574</td>\n",
       "      <td>CHENNAI</td>\n",
       "      <td>TAMIL NADU</td>\n",
       "      <td>IN</td>\n",
       "      <td>False</td>\n",
       "      <td>unknown</td>\n",
       "    </tr>\n",
       "    <tr>\n",
       "      <th>...</th>\n",
       "      <td>...</td>\n",
       "      <td>...</td>\n",
       "      <td>...</td>\n",
       "      <td>...</td>\n",
       "      <td>...</td>\n",
       "      <td>...</td>\n",
       "      <td>...</td>\n",
       "      <td>...</td>\n",
       "      <td>...</td>\n",
       "      <td>...</td>\n",
       "      <td>...</td>\n",
       "      <td>...</td>\n",
       "      <td>...</td>\n",
       "      <td>...</td>\n",
       "      <td>...</td>\n",
       "      <td>...</td>\n",
       "      <td>...</td>\n",
       "    </tr>\n",
       "    <tr>\n",
       "      <th>128970</th>\n",
       "      <td>Shipped</td>\n",
       "      <td>Amazon</td>\n",
       "      <td>Amazon.in</td>\n",
       "      <td>Expedited</td>\n",
       "      <td>JNE3697</td>\n",
       "      <td>JNE3697-KR-XL</td>\n",
       "      <td>kurta</td>\n",
       "      <td>XL</td>\n",
       "      <td>Shipped</td>\n",
       "      <td>1</td>\n",
       "      <td>INR</td>\n",
       "      <td>517</td>\n",
       "      <td>HYDERABAD</td>\n",
       "      <td>TELANGANA</td>\n",
       "      <td>IN</td>\n",
       "      <td>False</td>\n",
       "      <td>unknown</td>\n",
       "    </tr>\n",
       "    <tr>\n",
       "      <th>128971</th>\n",
       "      <td>Shipped</td>\n",
       "      <td>Amazon</td>\n",
       "      <td>Amazon.in</td>\n",
       "      <td>Expedited</td>\n",
       "      <td>SET401</td>\n",
       "      <td>SET401-KR-NP-M</td>\n",
       "      <td>Set</td>\n",
       "      <td>M</td>\n",
       "      <td>Shipped</td>\n",
       "      <td>1</td>\n",
       "      <td>INR</td>\n",
       "      <td>999</td>\n",
       "      <td>GURUGRAM</td>\n",
       "      <td>HARYANA</td>\n",
       "      <td>IN</td>\n",
       "      <td>False</td>\n",
       "      <td>unknown</td>\n",
       "    </tr>\n",
       "    <tr>\n",
       "      <th>128972</th>\n",
       "      <td>Shipped</td>\n",
       "      <td>Amazon</td>\n",
       "      <td>Amazon.in</td>\n",
       "      <td>Expedited</td>\n",
       "      <td>J0157</td>\n",
       "      <td>J0157-DR-XXL</td>\n",
       "      <td>Western Dress</td>\n",
       "      <td>XXL</td>\n",
       "      <td>Shipped</td>\n",
       "      <td>1</td>\n",
       "      <td>INR</td>\n",
       "      <td>690</td>\n",
       "      <td>HYDERABAD</td>\n",
       "      <td>TELANGANA</td>\n",
       "      <td>IN</td>\n",
       "      <td>False</td>\n",
       "      <td>unknown</td>\n",
       "    </tr>\n",
       "    <tr>\n",
       "      <th>128973</th>\n",
       "      <td>Shipped</td>\n",
       "      <td>Amazon</td>\n",
       "      <td>Amazon.in</td>\n",
       "      <td>Expedited</td>\n",
       "      <td>J0012</td>\n",
       "      <td>J0012-SKD-XS</td>\n",
       "      <td>Set</td>\n",
       "      <td>XS</td>\n",
       "      <td>Shipped</td>\n",
       "      <td>1</td>\n",
       "      <td>INR</td>\n",
       "      <td>1199</td>\n",
       "      <td>Halol</td>\n",
       "      <td>Gujarat</td>\n",
       "      <td>IN</td>\n",
       "      <td>False</td>\n",
       "      <td>unknown</td>\n",
       "    </tr>\n",
       "    <tr>\n",
       "      <th>128974</th>\n",
       "      <td>Shipped</td>\n",
       "      <td>Amazon</td>\n",
       "      <td>Amazon.in</td>\n",
       "      <td>Expedited</td>\n",
       "      <td>J0003</td>\n",
       "      <td>J0003-SET-S</td>\n",
       "      <td>Set</td>\n",
       "      <td>S</td>\n",
       "      <td>Shipped</td>\n",
       "      <td>1</td>\n",
       "      <td>INR</td>\n",
       "      <td>696</td>\n",
       "      <td>Raipur</td>\n",
       "      <td>CHHATTISGARH</td>\n",
       "      <td>IN</td>\n",
       "      <td>False</td>\n",
       "      <td>unknown</td>\n",
       "    </tr>\n",
       "  </tbody>\n",
       "</table>\n",
       "<p>128975 rows × 17 columns</p>\n",
       "</div>"
      ],
      "text/plain": [
       "                              Status Fulfilment Sales Channel   \\\n",
       "0                          Cancelled   Merchant      Amazon.in   \n",
       "1       Shipped - Delivered to Buyer   Merchant      Amazon.in   \n",
       "2                            Shipped     Amazon      Amazon.in   \n",
       "3                          Cancelled   Merchant      Amazon.in   \n",
       "4                            Shipped     Amazon      Amazon.in   \n",
       "...                              ...        ...            ...   \n",
       "128970                       Shipped     Amazon      Amazon.in   \n",
       "128971                       Shipped     Amazon      Amazon.in   \n",
       "128972                       Shipped     Amazon      Amazon.in   \n",
       "128973                       Shipped     Amazon      Amazon.in   \n",
       "128974                       Shipped     Amazon      Amazon.in   \n",
       "\n",
       "       ship-service-level    Style              SKU       Category Size  \\\n",
       "0                Standard   SET389   SET389-KR-NP-S            Set    S   \n",
       "1                Standard  JNE3781  JNE3781-KR-XXXL          kurta  3XL   \n",
       "2               Expedited  JNE3371    JNE3371-KR-XL          kurta   XL   \n",
       "3                Standard    J0341       J0341-DR-L  Western Dress    L   \n",
       "4               Expedited  JNE3671  JNE3671-TU-XXXL            Top  3XL   \n",
       "...                   ...      ...              ...            ...  ...   \n",
       "128970          Expedited  JNE3697    JNE3697-KR-XL          kurta   XL   \n",
       "128971          Expedited   SET401   SET401-KR-NP-M            Set    M   \n",
       "128972          Expedited    J0157     J0157-DR-XXL  Western Dress  XXL   \n",
       "128973          Expedited    J0012     J0012-SKD-XS            Set   XS   \n",
       "128974          Expedited    J0003      J0003-SET-S            Set    S   \n",
       "\n",
       "       Courier Status  Qty currency  Amount    ship-city    ship-state  \\\n",
       "0             unknown    0      INR     647       MUMBAI   MAHARASHTRA   \n",
       "1             Shipped    1      INR     406    BENGALURU     KARNATAKA   \n",
       "2             Shipped    1      INR     329  NAVI MUMBAI   MAHARASHTRA   \n",
       "3             unknown    0      INR     753   PUDUCHERRY    PUDUCHERRY   \n",
       "4             Shipped    1      INR     574      CHENNAI    TAMIL NADU   \n",
       "...               ...  ...      ...     ...          ...           ...   \n",
       "128970        Shipped    1      INR     517    HYDERABAD     TELANGANA   \n",
       "128971        Shipped    1      INR     999     GURUGRAM       HARYANA   \n",
       "128972        Shipped    1      INR     690    HYDERABAD     TELANGANA   \n",
       "128973        Shipped    1      INR    1199        Halol       Gujarat   \n",
       "128974        Shipped    1      INR     696       Raipur  CHHATTISGARH   \n",
       "\n",
       "       ship-country    B2B fulfilled-by  \n",
       "0                IN  False    Easy Ship  \n",
       "1                IN  False    Easy Ship  \n",
       "2                IN   True      unknown  \n",
       "3                IN  False    Easy Ship  \n",
       "4                IN  False      unknown  \n",
       "...             ...    ...          ...  \n",
       "128970           IN  False      unknown  \n",
       "128971           IN  False      unknown  \n",
       "128972           IN  False      unknown  \n",
       "128973           IN  False      unknown  \n",
       "128974           IN  False      unknown  \n",
       "\n",
       "[128975 rows x 17 columns]"
      ]
     },
     "execution_count": 45,
     "metadata": {},
     "output_type": "execute_result"
    }
   ],
   "source": [
    "df"
   ]
  },
  {
   "cell_type": "code",
   "execution_count": null,
   "id": "1b9730b7",
   "metadata": {},
   "outputs": [],
   "source": []
  }
 ],
 "metadata": {
  "kernelspec": {
   "display_name": "Python 3 (ipykernel)",
   "language": "python",
   "name": "python3"
  },
  "language_info": {
   "codemirror_mode": {
    "name": "ipython",
    "version": 3
   },
   "file_extension": ".py",
   "mimetype": "text/x-python",
   "name": "python",
   "nbconvert_exporter": "python",
   "pygments_lexer": "ipython3",
   "version": "3.10.9"
  }
 },
 "nbformat": 4,
 "nbformat_minor": 5
}
